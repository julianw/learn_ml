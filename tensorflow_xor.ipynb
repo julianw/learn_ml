{
 "cells": [
  {
   "cell_type": "code",
   "execution_count": 368,
   "metadata": {
    "collapsed": true
   },
   "outputs": [],
   "source": [
    "import tensorflow as tf"
   ]
  },
  {
   "cell_type": "code",
   "execution_count": 369,
   "metadata": {
    "collapsed": false
   },
   "outputs": [],
   "source": [
    "x = tf.placeholder(\"float32\", shape=[None,2]) # first dimension is None so that it can \"scale\" as the batch input when feeding training data\n",
    "y = tf.placeholder(\"float32\", shape=[None,1]) # same as above, y is used to calculate error / cost during training\n",
    "trX = [[0,0],[0,1],[1,0],[1,1]]\n",
    "trY = [[0],[1],[1],[0]]"
   ]
  },
  {
   "cell_type": "code",
   "execution_count": 370,
   "metadata": {
    "collapsed": false
   },
   "outputs": [],
   "source": [
    "IN_SIZE = 2 # the xor function takes 2 input\n",
    "HIDDEN_SIZE = 3 # 2 hidden nodes should be enough, but using 2 node sometimes stuck in local minimum, increase the dimension help avoiding local minimum\n",
    "OUTPUT_SIZE = 1 # output is either 1.0 or 0.0 \n",
    "\n",
    "x_in = tf.reshape(x,[-1,IN_SIZE]) # -1 dimension is computed during run time when actual data is known.\n",
    "\n",
    "layer_1_w = tf.Variable(tf.random_normal([IN_SIZE,HIDDEN_SIZE],stddev=1))\n",
    "layer_1 = tf.nn.sigmoid(tf.matmul(x_in,layer_1_w)) # bias is not used here as it is not needed\n",
    "output_w = tf.Variable(tf.random_normal([HIDDEN_SIZE,OUTPUT_SIZE],stddev=1))\n",
    "output = tf.nn.sigmoid(tf.matmul(layer_1,output_w))\n",
    "error = y - output\n",
    "# optimize with mean sqare error below\n",
    "cost = tf.reduce_mean(tf.matmul(a=error,b=error,transpose_a=True,transpose_b=False)) # tf.reduce_mean(tf.square(error)) works too. \n",
    "train_op = tf.train.GradientDescentOptimizer(0.1).minimize(cost)"
   ]
  },
  {
   "cell_type": "code",
   "execution_count": 371,
   "metadata": {
    "collapsed": false
   },
   "outputs": [
    {
     "name": "stdout",
     "output_type": "stream",
     "text": [
      "output of the network after random initialization:\n",
      "x=[0,0] [[ 0.49948728]]\n",
      "x=[0,1] [[ 0.48185992]]\n",
      "x=[1,0] [[ 0.44086653]]\n",
      "x=[1,1] [[ 0.42644048]]\n",
      "output of the network after training:\n",
      "x=[0,0] [[ 0.08833248]]\n",
      "x=[0,1] [[ 0.94440377]]\n",
      "x=[1,0] [[ 0.94474691]]\n",
      "x=[1,1] [[ 0.02569895]]\n"
     ]
    }
   ],
   "source": [
    "with tf.Session() as sess:\n",
    "    writer = tf.summary.FileWriter(\"./tf_logs/xor\", sess.graph)\n",
    "    tf.global_variables_initializer().run()\n",
    "    print \"output of the network after random initialization:\"\n",
    "    print \"x=[0,0]\", sess.run(output, feed_dict={x:[[0,0]]})\n",
    "    print \"x=[0,1]\", sess.run(output, feed_dict={x:[[0,1]]})\n",
    "    print \"x=[1,0]\", sess.run(output, feed_dict={x:[[1,0]]})\n",
    "    print \"x=[1,1]\", sess.run(output, feed_dict={x:[[1,1]]})\n",
    "    for i in range(10000):\n",
    "        sess.run(train_op, feed_dict={x: trX, y: trY})\n",
    "    print \"output of the network after training:\"\n",
    "    print \"x=[0,0]\", sess.run(output, feed_dict={x:[[0,0]]})\n",
    "    print \"x=[0,1]\", sess.run(output, feed_dict={x:[[0,1]]})\n",
    "    print \"x=[1,0]\", sess.run(output, feed_dict={x:[[1,0]]})\n",
    "    print \"x=[1,1]\", sess.run(output, feed_dict={x:[[1,1]]})\n"
   ]
  },
  {
   "cell_type": "code",
   "execution_count": null,
   "metadata": {
    "collapsed": true
   },
   "outputs": [],
   "source": []
  }
 ],
 "metadata": {
  "kernelspec": {
   "display_name": "Python 2",
   "language": "python",
   "name": "python2"
  },
  "language_info": {
   "codemirror_mode": {
    "name": "ipython",
    "version": 2
   },
   "file_extension": ".py",
   "mimetype": "text/x-python",
   "name": "python",
   "nbconvert_exporter": "python",
   "pygments_lexer": "ipython2",
   "version": "2.7.13"
  }
 },
 "nbformat": 4,
 "nbformat_minor": 2
}
