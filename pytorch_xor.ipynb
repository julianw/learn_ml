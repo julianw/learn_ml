{
 "cells": [
  {
   "cell_type": "markdown",
   "metadata": {},
   "source": [
    "# Simple Neural Network to learn XOR in PyTorch"
   ]
  },
  {
   "cell_type": "code",
   "execution_count": 2,
   "metadata": {},
   "outputs": [],
   "source": [
    "import torch\n",
    "import torch.nn.functional as F\n",
    "import torch.nn as nn\n",
    "from torch.autograd import Variable"
   ]
  },
  {
   "cell_type": "code",
   "execution_count": 7,
   "metadata": {},
   "outputs": [],
   "source": [
    "class NN(nn.Module):\n",
    "  def __init__(self):\n",
    "    super(NN, self).__init__()\n",
    "    self.l1_linear = nn.Linear(2, 4, bias=False)\n",
    "    self.l2_linear = nn.Linear(4, 1, bias=False)\n",
    "  \n",
    "  def forward(self, x):\n",
    "    l1 = self.l1_linear(x)\n",
    "    out = F.sigmoid(self.l1_linear(x))\n",
    "    out = F.sigmoid(self.l2_linear(out))\n",
    "    return out\n",
    "\n",
    "xor_nn = NN()\n",
    "optimizer = torch.optim.Adam(xor_nn.parameters(), lr=1e-3, weight_decay=1e-5)\n",
    "\n",
    "# prepare the training data\n",
    "x_in = Variable(torch.FloatTensor([[1,1],[0,0],[1,0],[0,1]]))\n",
    "y_out = Variable(torch.FloatTensor([[0],[0],[1],[1]]))"
   ]
  },
  {
   "cell_type": "code",
   "execution_count": 8,
   "metadata": {},
   "outputs": [
    {
     "name": "stdout",
     "output_type": "stream",
     "text": [
      "i: 2000, loss: 0.0515\n",
      "i: 4000, loss: 0.0148\n",
      "i: 6000, loss: 0.0057\n",
      "i: 8000, loss: 0.0026\n",
      "i: 10000, loss: 0.0013\n"
     ]
    }
   ],
   "source": [
    "for i in range(10000):\n",
    "  predict = xor_nn(x_in)\n",
    "  loss = F.smooth_l1_loss(predict,y_out)\n",
    "  optimizer.zero_grad()\n",
    "  loss.backward()\n",
    "  optimizer.step()\n",
    "  if (i+1)%2000 == 0:\n",
    "    print('i: %d, loss: %.4f'%(i+1,loss.data[0]))"
   ]
  },
  {
   "cell_type": "code",
   "execution_count": 9,
   "metadata": {},
   "outputs": [
    {
     "name": "stdout",
     "output_type": "stream",
     "text": [
      "input:\n",
      " Variable containing:\n",
      " 1  1\n",
      " 0  0\n",
      " 1  0\n",
      " 0  1\n",
      "[torch.FloatTensor of size 4x2]\n",
      "\n",
      "output:\n",
      " Variable containing:\n",
      " 0.0420\n",
      " 0.0660\n",
      " 0.9637\n",
      " 0.9467\n",
      "[torch.FloatTensor of size 4x1]\n",
      "\n"
     ]
    }
   ],
   "source": [
    "print('input:\\n',x_in)\n",
    "print('output:\\n',xor_nn(x_in))"
   ]
  },
  {
   "cell_type": "code",
   "execution_count": 10,
   "metadata": {},
   "outputs": [
    {
     "data": {
      "text/plain": [
       "OrderedDict([('l1_linear.weight', \n",
       "              -6.6295  3.4147\n",
       "              -3.0198  6.7159\n",
       "              -4.3345 -4.9472\n",
       "               3.7203  4.3056\n",
       "              [torch.FloatTensor of size 4x2]), ('l2_linear.weight', \n",
       "               6.7587 -7.3802 -8.4932  3.8147\n",
       "              [torch.FloatTensor of size 1x4])])"
      ]
     },
     "execution_count": 10,
     "metadata": {},
     "output_type": "execute_result"
    }
   ],
   "source": [
    "# weights in the model\n",
    "xor_nn.state_dict()"
   ]
  },
  {
   "cell_type": "code",
   "execution_count": null,
   "metadata": {},
   "outputs": [],
   "source": []
  }
 ],
 "metadata": {
  "kernelspec": {
   "display_name": "Python [conda env:pytorch36]",
   "language": "python",
   "name": "conda-env-pytorch36-py"
  },
  "language_info": {
   "codemirror_mode": {
    "name": "ipython",
    "version": 3
   },
   "file_extension": ".py",
   "mimetype": "text/x-python",
   "name": "python",
   "nbconvert_exporter": "python",
   "pygments_lexer": "ipython3",
   "version": "3.6.4"
  }
 },
 "nbformat": 4,
 "nbformat_minor": 2
}
