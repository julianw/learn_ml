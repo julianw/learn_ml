{
 "cells": [
  {
   "cell_type": "code",
   "execution_count": 41,
   "metadata": {},
   "outputs": [],
   "source": [
    "import gym\n",
    "import numpy as np\n",
    "import torch\n",
    "import torch.nn as nn\n",
    "import torch.nn.functional as F\n",
    "from torch.autograd import Variable\n",
    "import random"
   ]
  },
  {
   "cell_type": "code",
   "execution_count": 42,
   "metadata": {},
   "outputs": [],
   "source": [
    "use_cuda = torch.cuda.is_available()\n",
    "FloatTensor = torch.cuda.FloatTensor if use_cuda else torch.FloatTensor\n",
    "LongTensor = torch.cuda.LongTensor if use_cuda else torch.LongTensor\n",
    "ByteTensor = torch.cuda.ByteTensor if use_cuda else torch.ByteTensor"
   ]
  },
  {
   "cell_type": "code",
   "execution_count": 43,
   "metadata": {},
   "outputs": [],
   "source": [
    "class TransitionHistory():\n",
    "  def __init__(self, max_count = 1000):\n",
    "    self.transitions = []\n",
    "    self.max_count = max_count\n",
    "    self.loc_pointer = 0\n",
    "  \n",
    "  def clear(self):\n",
    "    self.transitions = []\n",
    "    self.loc_pointer = 0\n",
    "  \n",
    "  def add_transition(self, s0, a0, r, s1):\n",
    "    if len(self.transitions) <= self.loc_pointer:\n",
    "      self.transitions.append(None)\n",
    "    self.transitions[self.loc_pointer] = (s0, a0, r, s1)\n",
    "    self.loc_pointer += 1\n",
    "    if self.loc_pointer >= self.max_count:\n",
    "      self.loc_pointer %= self.max_count\n",
    "  \n",
    "  def get_sample_transition(self, batch_size):\n",
    "    return random.sample(self.transitions, batch_size)"
   ]
  },
  {
   "cell_type": "code",
   "execution_count": 44,
   "metadata": {},
   "outputs": [],
   "source": [
    "class SNN(nn.Module):\n",
    "  def __init__(self, input_size, output_size):\n",
    "    super(SNN,self).__init__()\n",
    "    self.l1_linear = nn.Linear(input_size, 128)\n",
    "    self.l2_linear = nn.Linear(128, 64)\n",
    "    self.l3_linear = nn.Linear(64, output_size)\n",
    "    \n",
    "  def forward(self,x):\n",
    "    out = F.dropout(F.relu(self.l1_linear(x)), p=0.5)\n",
    "    out = F.relu(self.l2_linear(out))\n",
    "    out = F.sigmoid(self.l3_linear(out))\n",
    "    return out"
   ]
  },
  {
   "cell_type": "code",
   "execution_count": 45,
   "metadata": {},
   "outputs": [],
   "source": [
    "class SQN():\n",
    "  _epsilon = 0.2\n",
    "  _gamma = 0.9\n",
    "  transition_history = TransitionHistory()\n",
    "  \n",
    "  def __init__(self, state_size, output_size):\n",
    "    self.output_size = output_size\n",
    "    self.state_size = state_size\n",
    "    self.Q = SNN(state_size * 3, output_size)\n",
    "    if use_cuda:\n",
    "      self.Q.cuda()\n",
    "#     self.optimizer = torch.optim.RMSprop(self.Q.parameters())\n",
    "    self.optimizer = torch.optim.SGD(self.Q.parameters(), lr=1 , momentum=0.9)\n",
    "#     self.optimizer = torch.optim.Adagrad(self.Q.parameters(),weight_decay=1e-3)\n",
    "      \n",
    "  def epsilon(self):\n",
    "    return self._epsilon\n",
    "      \n",
    "  def predict(self, state):\n",
    "    state = np.append(state[0],[state[1],state[1] - state[0]])\n",
    "    s = Variable(FloatTensor([state]))\n",
    "    action_value = self.Q(s)\n",
    "    return action_value.data.tolist()[0]\n",
    "\n",
    "  def pick_action(self, state):\n",
    "    action = None\n",
    "    if random.random() < self.epsilon():\n",
    "      action =  random.randint(0, self.output_size -1)\n",
    "    else:\n",
    "      action_value = self.predict(state)\n",
    "      action = action_value.index(max(action_value))\n",
    "    return action\n",
    "  \n",
    "  def update_Q(self, batch):\n",
    "    # Q learning, Q(s,a) = Q(s,a) + alpha * [reward + gamma * max(Q(s')) - Q(s,a)]\n",
    "    \n",
    "    (state, action, reward, next_state) = tuple(zip(*batch))\n",
    "    state = [np.append(s[0], [s[1], s[1]-s[0]]) for s in state]\n",
    "    next_state = [np.append(s[0],[s[1],s[1]-s[0]]) if s is not None else None for s in next_state]\n",
    "    non_final_mask = torch.ByteTensor(tuple(map(lambda s:s is not None, next_state)))\n",
    "    non_final_next_states = Variable(FloatTensor([s for s in next_state if s is not None]), volatile=True)\n",
    "\n",
    "    state_batch = Variable(FloatTensor(state))\n",
    "    action_batch = Variable(LongTensor([a for a in action]))\n",
    "    reward_batch = Variable(FloatTensor(reward))\n",
    "    state_action_values = self.Q(state_batch).gather(1, action_batch.view(-1,1))\n",
    "    \n",
    "    next_state_values = Variable(torch.zeros(len(batch)).type(FloatTensor))\n",
    "    next_state_values[non_final_mask] = self.Q(non_final_next_states).max(1)[0]\n",
    "    \n",
    "    expected_state_action_values = (next_state_values * self._gamma) + reward_batch\n",
    "    expected_state_action_values = Variable(expected_state_action_values.view(-1,1).data)\n",
    "    \n",
    "#     print('state_action_values',state_action_values)\n",
    "#     print('expected_state_action_values',expected_state_action_values)\n",
    "    loss = F.smooth_l1_loss(state_action_values, expected_state_action_values)\n",
    "#     print('loss', loss.data[0])\n",
    "    self.optimizer.zero_grad()\n",
    "    loss.backward()\n",
    "    self.optimizer.step()\n",
    "\n",
    "  def train(self, env, episode, iter_per_episode = 100, batch_size = 32):\n",
    "    episode_length = []\n",
    "    for i in range(episode):\n",
    "      s0 = env.reset()\n",
    "      s0 = [s0, s0]\n",
    "      a0 = self.pick_action(s0)\n",
    "      episode_ended = False\n",
    "      step = 0\n",
    "      while not episode_ended:\n",
    "        (s1, reward, episode_ended, info) = env.step(a0)\n",
    "        s1 = [s0[1],s1]\n",
    "        step += 1\n",
    "        if episode_ended:\n",
    "          episode_length.append(step)\n",
    "          reward = -1\n",
    "          s1 = None\n",
    "          a1 = None\n",
    "        else:\n",
    "          a1 = self.pick_action(s1)\n",
    "        self.transition_history.add_transition(s0,a0,reward,s1)\n",
    "        s0 = s1\n",
    "        a0 = a1\n",
    "      if len(self.transition_history.transitions) > batch_size:\n",
    "        for j in range(iter_per_episode):\n",
    "          batch = self.transition_history.get_sample_transition(batch_size)\n",
    "          self.update_Q(batch)\n",
    "      if (i + 1) % 100 == 0:\n",
    "        episode_length = episode_length[-10:]\n",
    "        print(i+1,': last 10 episode avg length:', sum(episode_length)/ 10)"
   ]
  },
  {
   "cell_type": "code",
   "execution_count": 46,
   "metadata": {},
   "outputs": [
    {
     "name": "stdout",
     "output_type": "stream",
     "text": [
      "\u001b[33mWARN: gym.spaces.Box autodetected dtype as <class 'numpy.float32'>. Please provide explicit dtype.\u001b[0m\n"
     ]
    }
   ],
   "source": [
    "env = gym.make('CartPole-v1')\n",
    "agent = SQN(4,2)"
   ]
  },
  {
   "cell_type": "code",
   "execution_count": 47,
   "metadata": {},
   "outputs": [
    {
     "name": "stdout",
     "output_type": "stream",
     "text": [
      "100 : last 10 episode avg length: 9.6\n",
      "200 : last 10 episode avg length: 11.2\n",
      "300 : last 10 episode avg length: 11.7\n",
      "400 : last 10 episode avg length: 10.9\n",
      "500 : last 10 episode avg length: 9.3\n",
      "600 : last 10 episode avg length: 11.1\n"
     ]
    },
    {
     "name": "stderr",
     "output_type": "stream",
     "text": [
      "ERROR:root:Internal Python error in the inspect module.\n",
      "Below is the traceback from this internal error.\n",
      "\n"
     ]
    },
    {
     "name": "stdout",
     "output_type": "stream",
     "text": [
      "Traceback (most recent call last):\n",
      "  File \"/Users/ju/anaconda2/envs/pytorch36/lib/python3.6/site-packages/IPython/core/interactiveshell.py\", line 2910, in run_code\n",
      "    exec(code_obj, self.user_global_ns, self.user_ns)\n",
      "  File \"<ipython-input-47-04186ca7d761>\", line 1, in <module>\n",
      "    agent.train(env, 1000, 1000)\n",
      "  File \"<ipython-input-45-1b88c04ba0a3>\", line 87, in train\n",
      "    self.update_Q(batch)\n",
      "  File \"<ipython-input-45-1b88c04ba0a3>\", line 46, in update_Q\n",
      "    state_action_values = self.Q(state_batch).gather(1, action_batch.view(-1,1))\n",
      "KeyboardInterrupt\n",
      "\n",
      "During handling of the above exception, another exception occurred:\n",
      "\n",
      "Traceback (most recent call last):\n",
      "  File \"/Users/ju/anaconda2/envs/pytorch36/lib/python3.6/site-packages/IPython/core/interactiveshell.py\", line 1828, in showtraceback\n",
      "    stb = value._render_traceback_()\n",
      "AttributeError: 'KeyboardInterrupt' object has no attribute '_render_traceback_'\n",
      "\n",
      "During handling of the above exception, another exception occurred:\n",
      "\n",
      "Traceback (most recent call last):\n",
      "  File \"/Users/ju/anaconda2/envs/pytorch36/lib/python3.6/site-packages/IPython/core/ultratb.py\", line 1090, in get_records\n",
      "    return _fixed_getinnerframes(etb, number_of_lines_of_context, tb_offset)\n",
      "  File \"/Users/ju/anaconda2/envs/pytorch36/lib/python3.6/site-packages/IPython/core/ultratb.py\", line 311, in wrapped\n",
      "    return f(*args, **kwargs)\n",
      "  File \"/Users/ju/anaconda2/envs/pytorch36/lib/python3.6/site-packages/IPython/core/ultratb.py\", line 345, in _fixed_getinnerframes\n",
      "    records = fix_frame_records_filenames(inspect.getinnerframes(etb, context))\n",
      "  File \"/Users/ju/anaconda2/envs/pytorch36/lib/python3.6/inspect.py\", line 1483, in getinnerframes\n",
      "    frameinfo = (tb.tb_frame,) + getframeinfo(tb, context)\n",
      "  File \"/Users/ju/anaconda2/envs/pytorch36/lib/python3.6/inspect.py\", line 1441, in getframeinfo\n",
      "    filename = getsourcefile(frame) or getfile(frame)\n",
      "  File \"/Users/ju/anaconda2/envs/pytorch36/lib/python3.6/inspect.py\", line 696, in getsourcefile\n",
      "    if getattr(getmodule(object, filename), '__loader__', None) is not None:\n",
      "  File \"/Users/ju/anaconda2/envs/pytorch36/lib/python3.6/inspect.py\", line 732, in getmodule\n",
      "    for modname, module in list(sys.modules.items()):\n",
      "KeyboardInterrupt\n"
     ]
    },
    {
     "ename": "KeyboardInterrupt",
     "evalue": "",
     "output_type": "error",
     "traceback": [
      "\u001b[0;31m---------------------------------------------------------------------------\u001b[0m"
     ]
    }
   ],
   "source": [
    "agent.train(env, 1000, 1000)"
   ]
  },
  {
   "cell_type": "code",
   "execution_count": 8,
   "metadata": {},
   "outputs": [
    {
     "data": {
      "text/plain": [
       "[([array([-0.03419475, -0.03714792,  0.04386825,  0.02219254]),\n",
       "   array([-0.03419475, -0.03714792,  0.04386825,  0.02219254])],\n",
       "  1,\n",
       "  1.0,\n",
       "  [array([-0.03419475, -0.03714792,  0.04386825,  0.02219254]),\n",
       "   array([-0.03493771,  0.15731836,  0.0443121 , -0.25633312])])]"
      ]
     },
     "execution_count": 8,
     "metadata": {},
     "output_type": "execute_result"
    }
   ],
   "source": [
    "agent.transition_history.get_sample_transition(1)"
   ]
  },
  {
   "cell_type": "code",
   "execution_count": 79,
   "metadata": {},
   "outputs": [
    {
     "ename": "NameError",
     "evalue": "name 's' is not defined",
     "output_type": "error",
     "traceback": [
      "\u001b[0;31m---------------------------------------------------------------------------\u001b[0m",
      "\u001b[0;31mNameError\u001b[0m                                 Traceback (most recent call last)",
      "\u001b[0;32m<ipython-input-79-d979ef61f484>\u001b[0m in \u001b[0;36m<module>\u001b[0;34m()\u001b[0m\n\u001b[0;32m----> 1\u001b[0;31m \u001b[0magent\u001b[0m\u001b[0;34m.\u001b[0m\u001b[0mQ\u001b[0m\u001b[0;34m(\u001b[0m\u001b[0mVariable\u001b[0m\u001b[0;34m(\u001b[0m\u001b[0mFloatTensor\u001b[0m\u001b[0;34m(\u001b[0m\u001b[0;34m[\u001b[0m\u001b[0ms\u001b[0m\u001b[0;34m]\u001b[0m\u001b[0;34m)\u001b[0m\u001b[0;34m)\u001b[0m\u001b[0;34m)\u001b[0m\u001b[0;34m\u001b[0m\u001b[0m\n\u001b[0m",
      "\u001b[0;31mNameError\u001b[0m: name 's' is not defined"
     ]
    }
   ],
   "source": [
    "agent.Q(Variable(FloatTensor([s])))"
   ]
  },
  {
   "cell_type": "code",
   "execution_count": 117,
   "metadata": {},
   "outputs": [
    {
     "data": {
      "text/plain": [
       "Variable containing:\n",
       " 0.5310  0.4690\n",
       "[torch.FloatTensor of size 1x2]"
      ]
     },
     "execution_count": 117,
     "metadata": {},
     "output_type": "execute_result"
    }
   ],
   "source": [
    "agent.predict(Variable(FloatTensor([s])))"
   ]
  },
  {
   "cell_type": "code",
   "execution_count": 92,
   "metadata": {},
   "outputs": [],
   "source": [
    "v = Variable(FloatTensor([0.1,0.2]))"
   ]
  },
  {
   "cell_type": "code",
   "execution_count": 106,
   "metadata": {},
   "outputs": [
    {
     "data": {
      "text/plain": [
       "torch.autograd.variable.Variable"
      ]
     },
     "execution_count": 106,
     "metadata": {},
     "output_type": "execute_result"
    }
   ],
   "source": [
    "type(v)"
   ]
  },
  {
   "cell_type": "code",
   "execution_count": 161,
   "metadata": {},
   "outputs": [],
   "source": [
    "x = [0,1,2]\n",
    "y = [3,4,5]"
   ]
  },
  {
   "cell_type": "code",
   "execution_count": 162,
   "metadata": {},
   "outputs": [],
   "source": [
    "x.extend(y)"
   ]
  },
  {
   "cell_type": "code",
   "execution_count": 163,
   "metadata": {},
   "outputs": [],
   "source": [
    "x[3:].extend(y)"
   ]
  },
  {
   "cell_type": "code",
   "execution_count": 164,
   "metadata": {},
   "outputs": [],
   "source": [
    "x1 = x[3:]"
   ]
  },
  {
   "cell_type": "code",
   "execution_count": 165,
   "metadata": {},
   "outputs": [
    {
     "data": {
      "text/plain": [
       "[3, 4, 5, 3, 4, 5]"
      ]
     },
     "execution_count": 165,
     "metadata": {},
     "output_type": "execute_result"
    }
   ],
   "source": [
    "x1.extend(y)\n",
    "x1"
   ]
  },
  {
   "cell_type": "code",
   "execution_count": 158,
   "metadata": {},
   "outputs": [],
   "source": [
    "x2"
   ]
  },
  {
   "cell_type": "code",
   "execution_count": 149,
   "metadata": {},
   "outputs": [],
   "source": [
    "a = env.action_space"
   ]
  },
  {
   "cell_type": "code",
   "execution_count": 150,
   "metadata": {},
   "outputs": [
    {
     "data": {
      "text/plain": [
       "2"
      ]
     },
     "execution_count": 150,
     "metadata": {},
     "output_type": "execute_result"
    }
   ],
   "source": [
    "a.n"
   ]
  },
  {
   "cell_type": "code",
   "execution_count": 198,
   "metadata": {},
   "outputs": [],
   "source": [
    "p = agent.Q(Variable(FloatTensor([[0,1,2,3,4,5,6,7]])))"
   ]
  },
  {
   "cell_type": "code",
   "execution_count": 201,
   "metadata": {},
   "outputs": [
    {
     "data": {
      "text/plain": [
       "[[0.5245333909988403, 0.47546666860580444]]"
      ]
     },
     "execution_count": 201,
     "metadata": {},
     "output_type": "execute_result"
    }
   ],
   "source": [
    "p.data.tolist()"
   ]
  },
  {
   "cell_type": "code",
   "execution_count": null,
   "metadata": {},
   "outputs": [],
   "source": []
  }
 ],
 "metadata": {
  "kernelspec": {
   "display_name": "Python [conda env:pytorch36]",
   "language": "python",
   "name": "conda-env-pytorch36-py"
  },
  "language_info": {
   "codemirror_mode": {
    "name": "ipython",
    "version": 3
   },
   "file_extension": ".py",
   "mimetype": "text/x-python",
   "name": "python",
   "nbconvert_exporter": "python",
   "pygments_lexer": "ipython3",
   "version": "3.6.4"
  }
 },
 "nbformat": 4,
 "nbformat_minor": 2
}
