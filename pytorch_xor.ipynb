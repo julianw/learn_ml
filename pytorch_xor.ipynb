{
 "cells": [
  {
   "cell_type": "markdown",
   "metadata": {},
   "source": [
    "# Simple Neural Network to learn XOR in PyTorch"
   ]
  },
  {
   "cell_type": "code",
   "execution_count": 1,
   "metadata": {},
   "outputs": [],
   "source": [
    "import torch\n",
    "import torch.nn.functional as F\n",
    "import torch.nn as nn\n",
    "from torch.autograd import Variable"
   ]
  },
  {
   "cell_type": "code",
   "execution_count": 26,
   "metadata": {},
   "outputs": [],
   "source": [
    "class NN(nn.Module):\n",
    "  def __init__(self):\n",
    "    super(NN, self).__init__()\n",
    "    self.l1_linear = nn.Linear(2, 8, bias=False)\n",
    "    nn.init.kaiming_normal_(self.l1_linear.weight)\n",
    "    self.l2_linear = nn.Linear(8, 1, bias=False)\n",
    "    nn.init.kaiming_normal_(self.l2_linear.weight)\n",
    "  \n",
    "  def forward(self, x):\n",
    "    l1 = self.l1_linear(x)\n",
    "    out = F.sigmoid(self.l1_linear(x))\n",
    "    out = F.sigmoid(self.l2_linear(out))\n",
    "    return out\n",
    "\n",
    "xor_nn = NN()\n",
    "optimizer = torch.optim.Adam(xor_nn.parameters(), lr=1e-3, weight_decay=1e-5)\n",
    "\n",
    "# prepare the training data\n",
    "x_in = Variable(torch.FloatTensor([[1,1],[0,0],[1,0],[0,1]]))\n",
    "y_out = Variable(torch.FloatTensor([[0],[0],[1],[1]]))"
   ]
  },
  {
   "cell_type": "code",
   "execution_count": 27,
   "metadata": {},
   "outputs": [
    {
     "name": "stderr",
     "output_type": "stream",
     "text": [
      "/Users/ju/anaconda2/envs/pytorch0.4/lib/python3.6/site-packages/ipykernel/__main__.py:8: UserWarning: invalid index of a 0-dim tensor. This will be an error in PyTorch 0.5. Use tensor.item() to convert a 0-dim tensor to a Python number\n"
     ]
    },
    {
     "name": "stdout",
     "output_type": "stream",
     "text": [
      "i: 2000, loss: 0.0322\n",
      "i: 4000, loss: 0.0065\n",
      "i: 6000, loss: 0.0014\n",
      "i: 8000, loss: 0.0005\n",
      "i: 10000, loss: 0.0004\n"
     ]
    }
   ],
   "source": [
    "for i in range(10000):\n",
    "  predict = xor_nn(x_in)\n",
    "  loss = F.smooth_l1_loss(predict,y_out)\n",
    "  optimizer.zero_grad()\n",
    "  loss.backward()\n",
    "  optimizer.step()\n",
    "  if (i+1)%2000 == 0:\n",
    "    print('i: %d, loss: %.4f'%(i+1,loss.data[0]))"
   ]
  },
  {
   "cell_type": "code",
   "execution_count": 28,
   "metadata": {},
   "outputs": [
    {
     "name": "stdout",
     "output_type": "stream",
     "text": [
      "input:\n",
      " tensor([[ 1.,  1.],\n",
      "        [ 0.,  0.],\n",
      "        [ 1.,  0.],\n",
      "        [ 0.,  1.]])\n",
      "output:\n",
      " tensor([[ 0.0259],\n",
      "        [ 0.0280],\n",
      "        [ 0.9722],\n",
      "        [ 0.9731]])\n"
     ]
    }
   ],
   "source": [
    "print('input:\\n',x_in)\n",
    "print('output:\\n',xor_nn(x_in))"
   ]
  },
  {
   "cell_type": "code",
   "execution_count": 29,
   "metadata": {},
   "outputs": [
    {
     "data": {
      "text/plain": [
       "OrderedDict([('l1_linear.weight', tensor([[-2.5086,  5.3487],\n",
       "                      [-3.6336, -3.6250],\n",
       "                      [ 4.3361, -1.9668],\n",
       "                      [-3.2398, -2.9609],\n",
       "                      [ 3.6643,  3.6338],\n",
       "                      [ 2.4062, -5.0674],\n",
       "                      [ 4.4046, -2.0273],\n",
       "                      [-4.4977,  2.0641]])),\n",
       "             ('l2_linear.weight',\n",
       "              tensor([[-4.7847, -5.6596, -3.0932, -4.9510,  6.4870,  4.9780, -3.6748,\n",
       "                        3.6012]]))])"
      ]
     },
     "execution_count": 29,
     "metadata": {},
     "output_type": "execute_result"
    }
   ],
   "source": [
    "# weights in the model\n",
    "xor_nn.state_dict()"
   ]
  },
  {
   "cell_type": "markdown",
   "metadata": {},
   "source": [
    "fast and slow"
   ]
  },
  {
   "cell_type": "code",
   "execution_count": 30,
   "metadata": {},
   "outputs": [],
   "source": [
    "def copy_grad(source, target):\n",
    "  grads = []\n",
    "  for param in source.parameters():\n",
    "    grads.append(param.grad.clone())\n",
    "  grads.reverse()\n",
    "  for param in target.parameters():\n",
    "    param.grad = grads.pop()\n",
    "\n",
    "def update_slow(slow, fast, tau):\n",
    "  s_d = slow.state_dict()\n",
    "  f_d = fast.state_dict()\n",
    "  for name in s_d:\n",
    "    s_d[name] = s_d[name] * ( 1. - tau) + f_d[name] * tau\n",
    "  slow.load_state_dict(s_d)"
   ]
  },
  {
   "cell_type": "code",
   "execution_count": 42,
   "metadata": {},
   "outputs": [],
   "source": [
    "xor_fast = NN()\n",
    "xor_slow = NN()\n",
    "xor_fast.load_state_dict(xor_slow.state_dict())\n",
    "optimizer = torch.optim.Adam(xor_fast.parameters(), lr=1e-3, weight_decay=1e-5)"
   ]
  },
  {
   "cell_type": "code",
   "execution_count": 43,
   "metadata": {},
   "outputs": [
    {
     "name": "stderr",
     "output_type": "stream",
     "text": [
      "/Users/ju/anaconda2/envs/pytorch0.4/lib/python3.6/site-packages/ipykernel/__main__.py:12: UserWarning: invalid index of a 0-dim tensor. This will be an error in PyTorch 0.5. Use tensor.item() to convert a 0-dim tensor to a Python number\n"
     ]
    },
    {
     "name": "stdout",
     "output_type": "stream",
     "text": [
      "i: 2000, loss: 0.0960\n",
      "i: 4000, loss: 0.0390\n",
      "i: 6000, loss: 0.0014\n",
      "i: 8000, loss: 0.0004\n",
      "i: 10000, loss: 0.0002\n"
     ]
    }
   ],
   "source": [
    "for i in range(10000):\n",
    "  predict = xor_slow(x_in)\n",
    "  loss = F.smooth_l1_loss(predict,y_out)\n",
    "  optimizer.zero_grad()\n",
    "  loss.backward()\n",
    "  copy_grad(xor_slow, xor_fast)\n",
    "  optimizer.step()\n",
    "  update_slow(xor_slow, xor_fast, 0.1)\n",
    "#   print(xor_slow.state_dict())\n",
    "#   print(xor_fast.state_dict())\n",
    "  if (i+1)%2000 == 0:\n",
    "    print('i: %d, loss: %.4f'%(i+1,loss.data[0]))"
   ]
  },
  {
   "cell_type": "code",
   "execution_count": 44,
   "metadata": {},
   "outputs": [
    {
     "name": "stdout",
     "output_type": "stream",
     "text": [
      "input:\n",
      " tensor([[ 1.,  1.],\n",
      "        [ 0.,  0.],\n",
      "        [ 1.,  0.],\n",
      "        [ 0.,  1.]])\n",
      "output:\n",
      " tensor([[ 0.0020],\n",
      "        [ 0.0003],\n",
      "        [ 1.0000],\n",
      "        [ 0.9604]])\n"
     ]
    }
   ],
   "source": [
    "print('input:\\n',x_in)\n",
    "print('output:\\n',xor_slow(x_in))"
   ]
  },
  {
   "cell_type": "code",
   "execution_count": null,
   "metadata": {},
   "outputs": [],
   "source": []
  },
  {
   "cell_type": "code",
   "execution_count": null,
   "metadata": {},
   "outputs": [],
   "source": []
  }
 ],
 "metadata": {
  "kernelspec": {
   "display_name": "Python [conda env:pytorch0.4]",
   "language": "python",
   "name": "conda-env-pytorch0.4-py"
  },
  "language_info": {
   "codemirror_mode": {
    "name": "ipython",
    "version": 3
   },
   "file_extension": ".py",
   "mimetype": "text/x-python",
   "name": "python",
   "nbconvert_exporter": "python",
   "pygments_lexer": "ipython3",
   "version": "3.6.4"
  }
 },
 "nbformat": 4,
 "nbformat_minor": 2
}
