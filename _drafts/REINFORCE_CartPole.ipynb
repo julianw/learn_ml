{
 "cells": [
  {
   "cell_type": "code",
   "execution_count": 1,
   "metadata": {},
   "outputs": [],
   "source": [
    "%matplotlib inline\n",
    "from IPython import display\n",
    "from IPython.display import HTML\n",
    "import matplotlib\n",
    "import matplotlib.pyplot as plt\n",
    "import matplotlib.animation as animation\n",
    "\n",
    "import torch\n",
    "import torch.nn as nn\n",
    "import torch.nn.functional as F\n",
    "from torch.autograd import Variable\n",
    "from torch.distributions import Normal, Categorical\n",
    "\n",
    "import numpy as np\n",
    "import random\n",
    "import os\n",
    "import gym"
   ]
  },
  {
   "cell_type": "code",
   "execution_count": 2,
   "metadata": {},
   "outputs": [],
   "source": [
    "use_cuda = torch.cuda.is_available()\n",
    "FloatTensor = torch.cuda.FloatTensor if use_cuda else torch.FloatTensor\n",
    "LongTensor = torch.cuda.LongTensor if use_cuda else torch.LongTensor\n",
    "ByteTensor = torch.cuda.ByteTensor if use_cuda else torch.ByteTensor"
   ]
  },
  {
   "cell_type": "code",
   "execution_count": 3,
   "metadata": {},
   "outputs": [],
   "source": [
    "def save_torch_model(model, filename):\n",
    "  if not os.path.exists(os.path.dirname(filename)):\n",
    "    os.makedirs(os.path.dirname(filename))\n",
    "  torch.save(model.state_dict(), filename)\n",
    "\n",
    "def load_torch_model(model, filename):\n",
    "  model.load_state_dict(torch.load(filename))\n",
    "\n",
    "def play(agent, env, img = None):\n",
    "  frames = []\n",
    "  state = env.reset()\n",
    "  agent.init_state(state)\n",
    "  ended = False\n",
    "  frame = env.render(mode='rgb_array')\n",
    "  img.set_data(frame)\n",
    "  frames.append(frame)\n",
    "  while not ended:\n",
    "    action = agent.get_action()\n",
    "    (state, reward, ended, info) = env.step(action)\n",
    "    agent.add_state(state)    \n",
    "    frame = env.render(mode='rgb_array')\n",
    "    img.set_data(frame)\n",
    "    display.display(plt.gcf())\n",
    "    display.clear_output(wait=True)\n",
    "    frames.append(frame)\n",
    "  return frames"
   ]
  },
  {
   "cell_type": "code",
   "execution_count": 4,
   "metadata": {},
   "outputs": [],
   "source": [
    "class PolicyNet_discret(nn.Module):\n",
    "  def __init__(self, input_size, output_size):\n",
    "    super(PolicyNet_discret,self).__init__()\n",
    "    self.l1_linear = nn.Linear(input_size, 512)\n",
    "    self.l2_linear = nn.Linear(512, 256)\n",
    "    self.l3_linear = nn.Linear(256, output_size)\n",
    "    nn.init.kaiming_normal_(self.l1_linear.weight)\n",
    "    nn.init.kaiming_normal_(self.l2_linear.weight)\n",
    "    \n",
    "  def forward(self,x):\n",
    "    out = F.relu(self.l1_linear(x))\n",
    "    out = F.relu(self.l2_linear(out))\n",
    "    out = F.softmax(self.l3_linear(out),dim=0)\n",
    "    return out"
   ]
  },
  {
   "cell_type": "code",
   "execution_count": 9,
   "metadata": {},
   "outputs": [],
   "source": [
    "class REINFORCE():\n",
    "  def __init__(self, env, steps_in_state = 2):\n",
    "    self.steps_in_state = steps_in_state\n",
    "    self.policy = PolicyNet_discret(env.observation_space.shape[0] * steps_in_state,env.action_space.n)\n",
    "    self.env = env\n",
    "    self._gamma = 0.96\n",
    "\n",
    "  def init_state(self, env_state):\n",
    "    self.running_state_seq = [env_state] * self.steps_in_state\n",
    "    self.running_state = FloatTensor(self.running_state_seq).view(-1)\n",
    "\n",
    "  def add_state(self, env_state):\n",
    "    self.running_state_seq = self.running_state_seq[1:]\n",
    "    self.running_state_seq.append(env_state)\n",
    "    self.running_state = FloatTensor(self.running_state_seq).view(-1)\n",
    "\n",
    "  def get_action(self):\n",
    "    action = self.policy(self.running_state)\n",
    "    return action.argmax().item()\n",
    "\n",
    "  def pick_action(self, state):\n",
    "    probs = self.policy(state)\n",
    "    action_dist = Categorical(probs)\n",
    "    action = action_dist.sample()\n",
    "    action = action.item()\n",
    "    return (action, action_dist.log_prob(FloatTensor([action])))\n",
    "  \n",
    "  def update_policy(self, episode):\n",
    "    (states, actions, rewards, log_probs) = zip(*episode)\n",
    "    MC_rewards = []\n",
    "    R = 0\n",
    "    for r in rewards[::-1]:\n",
    "      R = r + self._gamma * R\n",
    "      MC_rewards.insert(0, R)\n",
    "    loss = []\n",
    "    for (log_prob, reward) in zip(log_probs, MC_rewards):\n",
    "      loss.append(-log_prob*reward)\n",
    "    loss = torch.stack(loss).sum()\n",
    "    self.optimizer.zero_grad()\n",
    "    loss.backward()\n",
    "    self.optimizer.step()\n",
    "\n",
    "  def train(self, env, episode, lr=1e-3, checkpoint=100):\n",
    "    self.optimizer = torch.optim.Adam(self.policy.parameters(), lr=lr, weight_decay=1e-3)\n",
    "    best_score = 0\n",
    "    for i in range(episode):\n",
    "      s0 = env.reset()\n",
    "      self.init_state(s0)\n",
    "      state = self.running_state\n",
    "      episode = []\n",
    "      episode_ended = False\n",
    "      score = 0\n",
    "      while not episode_ended:\n",
    "        (action, log_prob) =  self.pick_action(state)\n",
    "        (s1, reward, episode_ended, info) = env.step(action)\n",
    "        episode.append((state, action, reward, log_prob))\n",
    "        self.add_state(s1)\n",
    "        next_state = self.running_state\n",
    "        if episode_ended:\n",
    "          ended = 1\n",
    "        else:\n",
    "          ended = 0\n",
    "        s0 = s1\n",
    "        state = next_state\n",
    "        score += reward\n",
    "        \n",
    "      if score > best_score:\n",
    "        save_torch_model(self.policy, 'model/reinforce_cartpole_best.pth')\n",
    "        best_score = score\n",
    "        print('new best score:',best_score)\n",
    "        \n",
    "      if (i + 1) % checkpoint == 0:\n",
    "        save_torch_model(self.policy,'model/reinforce_cartpole_iter_%d.pth' %(i+1))\n",
    "        print(i+1,': score:', score)\n",
    "\n",
    "      self.update_policy(episode)"
   ]
  },
  {
   "cell_type": "code",
   "execution_count": 10,
   "metadata": {},
   "outputs": [
    {
     "name": "stdout",
     "output_type": "stream",
     "text": [
      "\u001b[33mWARN: gym.spaces.Box autodetected dtype as <class 'numpy.float32'>. Please provide explicit dtype.\u001b[0m\n"
     ]
    }
   ],
   "source": [
    "env = gym.make('CartPole-v0')\n",
    "agent = REINFORCE(env)"
   ]
  },
  {
   "cell_type": "code",
   "execution_count": 11,
   "metadata": {},
   "outputs": [
    {
     "name": "stdout",
     "output_type": "stream",
     "text": [
      "new best score: 15.0\n",
      "new best score: 17.0\n",
      "new best score: 22.0\n",
      "new best score: 29.0\n",
      "new best score: 42.0\n",
      "50 : score: 13.0\n",
      "new best score: 54.0\n",
      "new best score: 169.0\n",
      "new best score: 200.0\n",
      "100 : score: 164.0\n",
      "150 : score: 133.0\n",
      "200 : score: 200.0\n"
     ]
    }
   ],
   "source": [
    "agent.train(env, 200, lr=1e-3, checkpoint=50)"
   ]
  },
  {
   "cell_type": "code",
   "execution_count": 14,
   "metadata": {},
   "outputs": [
    {
     "data": {
      "image/png": "[encoded data removed]",
      "text/plain": [
       "<matplotlib.figure.Figure at 0x123338908>"
      ]
     },
     "metadata": {},
     "output_type": "display_data"
    }
   ],
   "source": [
    "img = plt.imshow(env.render(mode='rgb_array'))\n",
    "load_torch_model(agent.policy,'model/reinforce_cartpole_iter_200.pth')\n",
    "frames = play(agent, env, img)"
   ]
  },
  {
   "cell_type": "code",
   "execution_count": 32,
   "metadata": {},
   "outputs": [],
   "source": [
    "class REINFORCE_MountainCar():\n",
    "  def __init__(self, env, steps_in_state = 2):\n",
    "    self.steps_in_state = steps_in_state\n",
    "    self.policy = PolicyNet_discret(env.observation_space.shape[0] * steps_in_state,env.action_space.n)\n",
    "    self.env = env\n",
    "    self._gamma = 0.96\n",
    "    self._epsilon = 0.2\n",
    "\n",
    "  def init_state(self, env_state):\n",
    "    self.running_state_seq = [env_state] * self.steps_in_state\n",
    "    self.running_state = FloatTensor(self.running_state_seq).view(-1)\n",
    "\n",
    "  def add_state(self, env_state):\n",
    "    self.running_state_seq = self.running_state_seq[1:]\n",
    "    self.running_state_seq.append(env_state)\n",
    "    self.running_state = FloatTensor(self.running_state_seq).view(-1)\n",
    "\n",
    "  def get_action(self):\n",
    "    # get_action does not sample or explore, just take the policy function output and use it\n",
    "    action = self.policy(self.running_state)\n",
    "    return action.argmax().item()\n",
    "\n",
    "  def epsilon(self):\n",
    "    (1. / (1. + self.decay * self.iterations))\n",
    "    return self._epsilon\n",
    "    \n",
    "  def pick_action(self, state):\n",
    "    probs = self.policy(state)\n",
    "    action_dist = Categorical(probs)\n",
    "    if np.random.rand() < self.epsilon():\n",
    "      action = self.env.action_space.sample()\n",
    "    else:\n",
    "      action = action_dist.sample()\n",
    "      action = action.item()\n",
    "    return (action, action_dist.log_prob(FloatTensor([action])))\n",
    "  \n",
    "  def update_policy(self, episode):\n",
    "    (states, actions, rewards, log_probs) = zip(*episode)\n",
    "    MC_rewards = []\n",
    "    R = 0\n",
    "    for r in rewards[::-1]:\n",
    "      R = r + self._gamma * R\n",
    "      MC_rewards.insert(0, R)\n",
    "    loss = []\n",
    "    for (log_prob, reward) in zip(log_probs, MC_rewards):\n",
    "      loss.append(-log_prob*reward)\n",
    "    loss = torch.stack(loss).sum()\n",
    "    self.optimizer.zero_grad()\n",
    "    loss.backward()\n",
    "    self.optimizer.step()\n",
    "\n",
    "  def train(self, env, episode, lr=1e-3, checkpoint=100):\n",
    "    self.optimizer = torch.optim.Adam(self.policy.parameters(), lr=lr, weight_decay=1e-3)\n",
    "    best_score = 0\n",
    "    for i in range(episode):\n",
    "      s0 = env.reset()\n",
    "      self.init_state(s0)\n",
    "      state = self.running_state\n",
    "      episode = []\n",
    "      episode_ended = False\n",
    "      score = 0\n",
    "      while not episode_ended:\n",
    "        (action, log_prob) =  self.pick_action(state)\n",
    "        (s1, reward, episode_ended, info) = env.step(action)\n",
    "        reward = abs(s1[0] - (-0.5))\n",
    "        episode.append((state, action, reward, log_prob))\n",
    "        self.add_state(s1)\n",
    "        next_state = self.running_state\n",
    "        if episode_ended:\n",
    "          ended = 1\n",
    "        else:\n",
    "          ended = 0\n",
    "        s0 = s1\n",
    "        state = next_state\n",
    "        score += reward\n",
    "        \n",
    "      if score > best_score:\n",
    "        save_torch_model(self.policy, 'model/reinforce_mountaincar_best.pth')\n",
    "        best_score = score\n",
    "        print('new best score:',best_score)\n",
    "        \n",
    "      if (i + 1) % checkpoint == 0:\n",
    "        save_torch_model(self.policy,'model/reinforce_mountaincar_iter_%d.pth' %(i+1))\n",
    "        print(i+1,': score:', score)\n",
    "\n",
    "      self.update_policy(episode)"
   ]
  },
  {
   "cell_type": "code",
   "execution_count": 33,
   "metadata": {},
   "outputs": [
    {
     "name": "stdout",
     "output_type": "stream",
     "text": [
      "\u001b[33mWARN: gym.spaces.Box autodetected dtype as <class 'numpy.float32'>. Please provide explicit dtype.\u001b[0m\n"
     ]
    }
   ],
   "source": [
    "env_MC = gym.make('MountainCar-v0')\n",
    "agent_MC = REINFORCE_MountainCar(env_MC)"
   ]
  },
  {
   "cell_type": "code",
   "execution_count": 36,
   "metadata": {},
   "outputs": [
    {
     "name": "stdout",
     "output_type": "stream",
     "text": [
      "new best score: 13.973131466355717\n",
      "new best score: 30.332211930404373\n",
      "50 : score: 11.936303359432838\n",
      "100 : score: 16.329909875734476\n",
      "150 : score: 10.84273817350573\n",
      "new best score: 33.43971294670785\n",
      "new best score: 33.87204493711082\n",
      "200 : score: 17.923291866815568\n"
     ]
    }
   ],
   "source": [
    "agent_MC.train(env_MC, 200, lr=1e-3, checkpoint=50)"
   ]
  },
  {
   "cell_type": "code",
   "execution_count": 75,
   "metadata": {},
   "outputs": [],
   "source": [
    "class PolicyNet_continuous(nn.Module):\n",
    "  def __init__(self, input_size, output_size):\n",
    "    super(PolicyNet_continuous,self).__init__()\n",
    "    self.l1_linear = nn.Linear(input_size,512)\n",
    "    self.l2_linear = nn.Linear(512,256)\n",
    "    self.l3_linear = nn.Linear(256,output_size)\n",
    "    nn.init.kaiming_normal_(self.l1_linear.weight)\n",
    "    nn.init.kaiming_normal_(self.l2_linear.weight)\n",
    "    \n",
    "  def forward(self,x):\n",
    "    out = F.relu(self.l1_linear(x))\n",
    "    out = F.relu(self.l2_linear(out))\n",
    "    out = F.tanh(self.l3_linear(out))\n",
    "    return out"
   ]
  },
  {
   "cell_type": "code",
   "execution_count": 76,
   "metadata": {},
   "outputs": [],
   "source": [
    "class REINFORCE_continuous():\n",
    "  def __init__(self, env, steps_in_state = 2):\n",
    "    self.steps_in_state = steps_in_state\n",
    "    self.policy = PolicyNet_continuous(env.observation_space.shape[0] * steps_in_state,1)\n",
    "    self.env = env\n",
    "    self.range_scale = (env.action_space.high[0] - env.action_space.low[0]) / 2.0\n",
    "    self._gamma = 0.96\n",
    "    self._epsilon = 0.0\n",
    "  \n",
    "  def epsilon(self):\n",
    "    return self._epsilon\n",
    "  \n",
    "  def predict(self, state):\n",
    "    return self.policy(state)\n",
    "  \n",
    "  def pick_action(self, state):\n",
    "    probs = self.predict(state) * self.range_scale\n",
    "    action_dist = Normal(probs, 0.2)\n",
    "    if np.random.rand() < self.epsilon():\n",
    "      action = self.env.action_space.sample()[0]\n",
    "    else:\n",
    "      action = action_dist.rsample().item()\n",
    "    return (action, action_dist.log_prob(FloatTensor([action])))\n",
    "  \n",
    "  def update_policy(self, episode):\n",
    "    (states, actions, rewards, log_probs) = zip(*episode)\n",
    "    MC_rewards = []\n",
    "    R = 0\n",
    "    for r in rewards[::-1]:\n",
    "      R = r + self._gamma * R\n",
    "      MC_rewards.insert(0, R)\n",
    "    loss = []\n",
    "    for (log_prob, reward) in zip(log_probs, MC_rewards):\n",
    "      loss.append(-log_prob*reward)\n",
    "    loss = torch.stack(loss).sum()\n",
    "    self.optimizer.zero_grad()\n",
    "    loss.backward()\n",
    "    self.optimizer.step()\n",
    "\n",
    "  def train(self, env, episode, lr=1e-3, checkpoint=100):\n",
    "    self.optimizer = torch.optim.Adam(self.policy.parameters(), lr=lr, weight_decay=1e-3)\n",
    "    best_score = -99999\n",
    "    for i in range(episode):\n",
    "      s0 = env.reset()\n",
    "      seq = [s0] * self.steps_in_state\n",
    "      state = FloatTensor(seq).view(-1)\n",
    "      episode = []\n",
    "      episode_ended = False\n",
    "      step = 0\n",
    "      score = 0\n",
    "      while not episode_ended:\n",
    "        (action, log_prob) =  self.pick_action(state)\n",
    "        (s1, reward, episode_ended, info) = env.step([action])\n",
    "        episode.append((state, action, reward, log_prob))\n",
    "        seq = seq[1:]\n",
    "        seq.append(s1)\n",
    "        next_state = FloatTensor(seq).view(-1)\n",
    "        step += 1\n",
    "        if episode_ended:\n",
    "          ended = 1\n",
    "          if step < 200:\n",
    "            # pole tipped over\n",
    "            reward = 0.0\n",
    "          else:\n",
    "            # environment terminate as max step reached\n",
    "            reward = 1.0\n",
    "        else:\n",
    "          ended = 0\n",
    "        s0 = s1\n",
    "        state = next_state\n",
    "        score += reward\n",
    "        \n",
    "      if score > best_score:\n",
    "        save_torch_model(self.policy, 'model/reinforce_mountaincar_best.pth')\n",
    "        best_score = score\n",
    "        print('new best score:',best_score)\n",
    "\n",
    "      if (i + 1) % checkpoint == 0:\n",
    "        save_torch_model(self.policy,'model/reinforce_mountaincar_iter_%d.pth' %(i+1))\n",
    "        print(i+1,': score:', score)\n",
    "\n",
    "      self.update_policy(episode)\n",
    "\n"
   ]
  },
  {
   "cell_type": "code",
   "execution_count": 77,
   "metadata": {},
   "outputs": [
    {
     "name": "stdout",
     "output_type": "stream",
     "text": [
      "\u001b[33mWARN: gym.spaces.Box autodetected dtype as <class 'numpy.float32'>. Please provide explicit dtype.\u001b[0m\n",
      "\u001b[33mWARN: gym.spaces.Box autodetected dtype as <class 'numpy.float32'>. Please provide explicit dtype.\u001b[0m\n"
     ]
    }
   ],
   "source": [
    "env = gym.make('Pendulum-v0')\n",
    "# env = gym.make('MountainCarContinuous-v0')\n",
    "agent = REINFORCE_continuous(env)"
   ]
  },
  {
   "cell_type": "code",
   "execution_count": 78,
   "metadata": {},
   "outputs": [
    {
     "name": "stdout",
     "output_type": "stream",
     "text": [
      "new best score: -1453.4346701422298\n",
      "new best score: -1344.229292963753\n",
      "new best score: -1021.2208387193907\n",
      "new best score: -833.7026407974064\n",
      "new best score: -829.011154336805\n",
      "100 : score: -1188.859591652436\n",
      "new best score: -823.0727270718667\n",
      "200 : score: -1635.3359380956833\n",
      "300 : score: -1578.5392590559215\n",
      "new best score: -752.1505662111351\n",
      "400 : score: -1063.1799564137377\n",
      "500 : score: -1640.118534303802\n"
     ]
    }
   ],
   "source": [
    "agent.train(env, 500, lr=1e-3, checkpoint=100)"
   ]
  },
  {
   "cell_type": "code",
   "execution_count": 2,
   "metadata": {},
   "outputs": [
    {
     "data": {
      "image/png": "[encoded data removed]",
      "text/plain": [
       "<matplotlib.figure.Figure at 0x11767efd0>"
      ]
     },
     "metadata": {},
     "output_type": "display_data"
    }
   ],
   "source": [
    "env = gym.make('CartPole-v0')\n",
    "env.reset()\n",
    "img = plt.imshow(env.render(mode='rgb_array')) # only call this once\n",
    "for _ in range(100):\n",
    "    img.set_data(env.render(mode='rgb_array')) # just update the data\n",
    "    display.display(plt.gcf())\n",
    "    display.clear_output(wait=True)\n",
    "    action = env.action_space.sample()\n",
    "    env.step(action)"
   ]
  },
  {
   "cell_type": "code",
   "execution_count": null,
   "metadata": {},
   "outputs": [],
   "source": []
  }
 ],
 "metadata": {
  "kernelspec": {
   "display_name": "Python [conda env:pytorch0.4]",
   "language": "python",
   "name": "conda-env-pytorch0.4-py"
  },
  "language_info": {
   "codemirror_mode": {
    "name": "ipython",
    "version": 3
   },
   "file_extension": ".py",
   "mimetype": "text/x-python",
   "name": "python",
   "nbconvert_exporter": "python",
   "pygments_lexer": "ipython3",
   "version": "3.6.4"
  }
 },
 "nbformat": 4,
 "nbformat_minor": 2
}
