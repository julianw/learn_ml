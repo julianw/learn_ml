{
 "cells": [
  {
   "cell_type": "markdown",
   "metadata": {},
   "source": [
    "# Cross Entropy Method to solve Pendulum in OpenAI gym"
   ]
  },
  {
   "cell_type": "markdown",
   "metadata": {},
   "source": [
    "This implementation reference to the psuedo code in the paper [Approximate Dynamic Programming Finally\n",
    "Performs Well in the Game of Tetris](https://papers.nips.cc/paper/5190-approximate-dynamic-programming-finally-performs-well-in-the-game-of-tetris.pdf)\n",
    "<img src=\"https://s8.postimg.cc/cmh2ex37p/Screen_Shot_2018-06-19_at_4.44.46_PM_1.png\" width=\"700\"/>"
   ]
  },
  {
   "cell_type": "markdown",
   "metadata": {},
   "source": [
    "It use the noise function fomula from [Learning Tetris Using the Noisy Cross-Entropy Method](http://iew3.technion.ac.il/CE/files/papers/Learning%20Tetris%20Using%20the%20Noisy%20Cross-Entropy%20Method.pdf)\n",
    "\n",
    "$Z_t = max(5 - t/10,0)$"
   ]
  },
  {
   "cell_type": "markdown",
   "metadata": {},
   "source": [
    "## Brief Explanation\n",
    "\n",
    "Cross Entropy Method is a evolutionary algorithm that perform optimization through searching in the parameter space. In this case here, we use $\\theta$ to parameterize the policy such that $P_\\theta(action|state)$, the algorithm as follow:\n",
    "1. Generate a population of $\\theta$ vectors\n",
    "2. Measure the performance of each $\\theta$ by running 10 simulation with the pendulum environment\n",
    "3. Use the best performer to update the mean and standard deviation for each number in the $\\theta$ vector\n",
    "4. Repeat step 1 with the new mean and standard deviation until converge to a local minimum\n",
    "\n",
    "Note that it does not calculate any gradient, it just shift the mean and shrink the standard deviation  where high performing $\\theta$ are being generated.\n",
    "\n",
    "For more on cross entropy method or derivative free method in RL there is a [youtube video from Deep RL bootcamp](https://www.youtube.com/watch?v=SQtOI9jsrJ0) by Xi (Peter) Chen (UC Berkeley)"
   ]
  },
  {
   "cell_type": "code",
   "execution_count": 1,
   "metadata": {},
   "outputs": [],
   "source": [
    "import numpy as np\n",
    "from IPython import display\n",
    "from IPython.display import HTML\n",
    "import matplotlib.pyplot as plt\n",
    "import matplotlib.animation as animation\n",
    "import gym\n",
    "import pickle"
   ]
  },
  {
   "cell_type": "code",
   "execution_count": 2,
   "metadata": {},
   "outputs": [],
   "source": [
    "def noise():\n",
    "  n = 5. - iteration / 10.\n",
    "  return max(n, 0)\n",
    "\n",
    "def get_sample_theta():\n",
    "  theta = []\n",
    "  n = noise()\n",
    "  std_wNoise = std + n\n",
    "  return np.random.normal(mean, std_wNoise)\n",
    "\n",
    "def update_mean_std(theta_list):\n",
    "  theta_all = np.stack(theta_list)\n",
    "  mean = theta_all.mean(axis=0)\n",
    "  std = theta_all.std(axis=0)\n",
    "  std = np.minimum(std, 20)\n",
    "  return (mean, std)\n",
    "\n",
    "def get_action(state, theta):\n",
    "  # input (1,3), first linear(dense) layer = (3,8) with relu\n",
    "  out = np.dot(state, np.reshape(theta[:24],(3,8)))\n",
    "  out = np.maximum(out, 0.0)\n",
    "  # second layer 8,1 with tanh * 2.0 as Pendulum action space is -2.0 to 2.0\n",
    "  out = np.dot(out, np.reshape(theta[24:],(8,1)))\n",
    "  out = np.tanh(out) * 2.0\n",
    "  return out"
   ]
  },
  {
   "cell_type": "code",
   "execution_count": 3,
   "metadata": {},
   "outputs": [
    {
     "name": "stdout",
     "output_type": "stream",
     "text": [
      "\u001b[33mWARN: gym.spaces.Box autodetected dtype as <class 'numpy.float32'>. Please provide explicit dtype.\u001b[0m\n",
      "\u001b[33mWARN: gym.spaces.Box autodetected dtype as <class 'numpy.float32'>. Please provide explicit dtype.\u001b[0m\n"
     ]
    }
   ],
   "source": [
    "# parameters and initialization\n",
    "theta_dim = 32\n",
    "theta_population = 1000\n",
    "mean = np.array([0] * theta_dim)\n",
    "std = np.array([10] * theta_dim)\n",
    "top_percentile = 0.1\n",
    "roll_out_per_iter = 10\n",
    "iteration = 0\n",
    "theta_list = [get_sample_theta() for _ in range(theta_population)]\n",
    "env = gym.make('Pendulum-v0')\n",
    "statistic = {'avg_std':[], 'min_reward':[], 'max_reward':[], 'avg_reward':[]}"
   ]
  },
  {
   "cell_type": "code",
   "execution_count": 4,
   "metadata": {},
   "outputs": [
    {
     "name": "stdout",
     "output_type": "stream",
     "text": [
      "i:10, avg_std:20.00, min: -1834.71, max:-636.31, mean:-1474.33\n",
      "i:20, avg_std:19.97, min: -1786.72, max:-416.82, mean:-1357.56\n",
      "i:30, avg_std:19.19, min: -1577.91, max:-211.51, mean:-1150.61\n",
      "i:40, avg_std:17.38, min: -1574.46, max:-140.68, mean:-800.41\n",
      "i:50, avg_std:13.64, min: -1383.04, max:-84.73, mean:-391.76\n",
      "i:60, avg_std:9.92, min: -724.64, max:-66.11, mean:-199.52\n",
      "i:70, avg_std:8.28, min: -593.05, max:-77.50, mean:-168.36\n",
      "i:80, avg_std:6.79, min: -610.45, max:-78.28, mean:-162.18\n",
      "i:90, avg_std:5.97, min: -295.71, max:-67.95, mean:-156.26\n",
      "i:100, avg_std:5.34, min: -329.55, max:-40.20, mean:-155.47\n",
      "i:110, avg_std:4.77, min: -235.43, max:-63.27, mean:-153.95\n",
      "i:120, avg_std:4.39, min: -236.05, max:-76.42, mean:-153.36\n",
      "i:130, avg_std:4.25, min: -235.95, max:-76.29, mean:-153.55\n",
      "i:140, avg_std:3.66, min: -234.24, max:-64.54, mean:-154.30\n",
      "i:150, avg_std:3.27, min: -239.71, max:-63.26, mean:-153.60\n",
      "i:160, avg_std:2.99, min: -309.33, max:-62.35, mean:-153.99\n"
     ]
    }
   ],
   "source": [
    "while std.mean() > 3:\n",
    "  reward_list = []\n",
    "  # collect mean reward for each theta\n",
    "  for theta in theta_list:\n",
    "    mean_reward = 0\n",
    "    for _ in range(roll_out_per_iter):\n",
    "      state = env.reset()\n",
    "      ended = False\n",
    "      episode_reward = 0\n",
    "      while not ended:\n",
    "        action = get_action(state, theta)\n",
    "        (state, reward, ended, info) = env.step(action)\n",
    "        episode_reward += reward\n",
    "      mean_reward += episode_reward / roll_out_per_iter\n",
    "    reward_list.append(mean_reward)\n",
    "    \n",
    "  # use the top 10% of theta with highest reward to calculate the mean and standard deviation \n",
    "  rewards = np.array(reward_list)\n",
    "  top_theta_indices = rewards.argsort()[-int(top_percentile * theta_population):]\n",
    "  top_theta_list = [theta_list[i] for i in top_theta_indices]\n",
    "  (mean, std) = update_mean_std(top_theta_list)\n",
    "  \n",
    "  # use the new mean and std to generate the next population of theta\n",
    "  theta_list = [get_sample_theta() for _ in range(theta_population)]\n",
    "  iteration += 1\n",
    "  if iteration % 10 == 0:\n",
    "    statistic['avg_std'].append(std.mean())\n",
    "    statistic['min_reward'].append(min(reward_list))\n",
    "    statistic['max_reward'].append(max(reward_list))\n",
    "    statistic['avg_reward'].append(sum(reward_list) / len(reward_list))  \n",
    "    print('i:%d, avg_std:%.2f, min: %.2f, max:%.2f, mean:%.2f' %(iteration, std.mean(), min(reward_list), max(reward_list), sum(reward_list) / len(reward_list)))\n",
    "  # save progress\n",
    "  pickle.dump(np.array(mean), open('cem_pendulum_mean.pkl', mode='wb'))\n",
    "  pickle.dump(np.array(std), open('cem_pendulum_std.pkl', mode='wb'))\n"
   ]
  },
  {
   "cell_type": "code",
   "execution_count": 7,
   "metadata": {},
   "outputs": [
    {
     "data": {
      "text/plain": [
       "[<matplotlib.lines.Line2D at 0x113efcb70>]"
      ]
     },
     "execution_count": 7,
     "metadata": {},
     "output_type": "execute_result"
    },
    {
     "data": {
      "image/png": "[encoded data removed]",
      "text/plain": [
       "<matplotlib.figure.Figure at 0x113dc3d68>"
      ]
     },
     "metadata": {},
     "output_type": "display_data"
    }
   ],
   "source": [
    "plt.figure(figsize=(8,10))\n",
    "plt.subplot(211)\n",
    "plt.title('Average standard deviation of theta')\n",
    "plt.xlabel('Iteration')\n",
    "plt.plot(range(10,170,10), statistic['avg_std'])\n",
    "plt.subplot(212)\n",
    "plt.title('Reward of theta population')\n",
    "plt.xlabel('Iteration')\n",
    "plt.plot(range(10,170,10), statistic['avg_reward'])\n",
    "plt.plot(range(10,170,10), statistic['min_reward'])\n",
    "plt.plot(range(10,170,10), statistic['max_reward'])"
   ]
  },
  {
   "cell_type": "markdown",
   "metadata": {},
   "source": [
    "Above image shows the standard deviation of the population shrink over time as the performance of the $\\theta$ population improve and converge to -300 to -50."
   ]
  },
  {
   "cell_type": "code",
   "execution_count": 8,
   "metadata": {},
   "outputs": [],
   "source": [
    "# use the final mean as solution and run a sample episode\n",
    "t = mean\n",
    "state = env.reset()\n",
    "frames = []\n",
    "frames.append(env.render(mode='rgb_array'))\n",
    "ended = False\n",
    "while not ended:\n",
    "  action = get_action(state, t)\n",
    "  (state, reward, ended, info) = env.step(action)\n",
    "  frames.append(env.render(mode='rgb_array'))"
   ]
  },
  {
   "cell_type": "code",
   "execution_count": 9,
   "metadata": {},
   "outputs": [],
   "source": [
    "%%capture\n",
    "def animate(frames):\n",
    "  fig, ax = plt.subplots()\n",
    "  ax.grid('off')\n",
    "  ax.axis('off')\n",
    "  ims = []\n",
    "  for i in range(len(frames)):\n",
    "      im = plt.imshow(frames[i], animated=True)\n",
    "      ims.append([im])\n",
    "  ani = animation.ArtistAnimation(fig, ims, interval=20, blit=True, repeat_delay=1000)\n",
    "  return ani\n",
    "\n",
    "ani = animate(frames)\n",
    "ani.save('pendulum_cem.mp4')"
   ]
  },
  {
   "cell_type": "code",
   "execution_count": 1,
   "metadata": {},
   "outputs": [
    {
     "data": {
      "text/html": [
       "<video width=\"400\" controls loop>\n",
       "  <source src=\"pendulum_cem.mp4\" type=\"video/mp4\">\n",
       "</video>"
      ],
      "text/plain": [
       "<IPython.core.display.HTML object>"
      ]
     },
     "metadata": {},
     "output_type": "display_data"
    }
   ],
   "source": [
    "%%HTML\n",
    "<video width=\"400\" controls loop>\n",
    "  <source src=\"pendulum_cem.mp4\" type=\"video/mp4\">\n",
    "</video>"
   ]
  },
  {
   "cell_type": "code",
   "execution_count": null,
   "metadata": {},
   "outputs": [],
   "source": []
  }
 ],
 "metadata": {
  "kernelspec": {
   "display_name": "Python [conda env:pytorch0.4]",
   "language": "python",
   "name": "conda-env-pytorch0.4-py"
  },
  "language_info": {
   "codemirror_mode": {
    "name": "ipython",
    "version": 3
   },
   "file_extension": ".py",
   "mimetype": "text/x-python",
   "name": "python",
   "nbconvert_exporter": "python",
   "pygments_lexer": "ipython3",
   "version": "3.6.4"
  }
 },
 "nbformat": 4,
 "nbformat_minor": 2
}
